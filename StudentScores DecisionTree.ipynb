{
 "cells": [
  {
   "cell_type": "code",
   "execution_count": 6,
   "id": "c4f4dd96",
   "metadata": {},
   "outputs": [],
   "source": [
    "import pandas as pd\n",
    "from sklearn.tree import DecisionTreeClassifier\n",
    "from sklearn import tree\n",
    "from sklearn import preprocessing\n",
    "\n",
    "# Load test scores csv\n",
    "ts = pd.read_csv('test_scores.csv')"
   ]
  },
  {
   "cell_type": "code",
   "execution_count": 7,
   "id": "b36a8e5e",
   "metadata": {},
   "outputs": [
    {
     "data": {
      "text/html": [
       "<div>\n",
       "<style scoped>\n",
       "    .dataframe tbody tr th:only-of-type {\n",
       "        vertical-align: middle;\n",
       "    }\n",
       "\n",
       "    .dataframe tbody tr th {\n",
       "        vertical-align: top;\n",
       "    }\n",
       "\n",
       "    .dataframe thead th {\n",
       "        text-align: right;\n",
       "    }\n",
       "</style>\n",
       "<table border=\"1\" class=\"dataframe\">\n",
       "  <thead>\n",
       "    <tr style=\"text-align: right;\">\n",
       "      <th></th>\n",
       "      <th>n_student</th>\n",
       "      <th>pretest</th>\n",
       "      <th>posttest</th>\n",
       "    </tr>\n",
       "  </thead>\n",
       "  <tbody>\n",
       "    <tr>\n",
       "      <th>count</th>\n",
       "      <td>2133.000000</td>\n",
       "      <td>2133.000000</td>\n",
       "      <td>2133.000000</td>\n",
       "    </tr>\n",
       "    <tr>\n",
       "      <th>mean</th>\n",
       "      <td>22.796531</td>\n",
       "      <td>54.955931</td>\n",
       "      <td>67.102203</td>\n",
       "    </tr>\n",
       "    <tr>\n",
       "      <th>std</th>\n",
       "      <td>4.228893</td>\n",
       "      <td>13.563101</td>\n",
       "      <td>13.986789</td>\n",
       "    </tr>\n",
       "    <tr>\n",
       "      <th>min</th>\n",
       "      <td>14.000000</td>\n",
       "      <td>22.000000</td>\n",
       "      <td>32.000000</td>\n",
       "    </tr>\n",
       "    <tr>\n",
       "      <th>25%</th>\n",
       "      <td>20.000000</td>\n",
       "      <td>44.000000</td>\n",
       "      <td>56.000000</td>\n",
       "    </tr>\n",
       "    <tr>\n",
       "      <th>50%</th>\n",
       "      <td>22.000000</td>\n",
       "      <td>56.000000</td>\n",
       "      <td>68.000000</td>\n",
       "    </tr>\n",
       "    <tr>\n",
       "      <th>75%</th>\n",
       "      <td>27.000000</td>\n",
       "      <td>65.000000</td>\n",
       "      <td>77.000000</td>\n",
       "    </tr>\n",
       "    <tr>\n",
       "      <th>max</th>\n",
       "      <td>31.000000</td>\n",
       "      <td>93.000000</td>\n",
       "      <td>100.000000</td>\n",
       "    </tr>\n",
       "  </tbody>\n",
       "</table>\n",
       "</div>"
      ],
      "text/plain": [
       "         n_student      pretest     posttest\n",
       "count  2133.000000  2133.000000  2133.000000\n",
       "mean     22.796531    54.955931    67.102203\n",
       "std       4.228893    13.563101    13.986789\n",
       "min      14.000000    22.000000    32.000000\n",
       "25%      20.000000    44.000000    56.000000\n",
       "50%      22.000000    56.000000    68.000000\n",
       "75%      27.000000    65.000000    77.000000\n",
       "max      31.000000    93.000000   100.000000"
      ]
     },
     "execution_count": 7,
     "metadata": {},
     "output_type": "execute_result"
    }
   ],
   "source": [
    "ts.describe()"
   ]
  },
  {
   "cell_type": "code",
   "execution_count": 8,
   "id": "5079ae4b",
   "metadata": {},
   "outputs": [],
   "source": [
    "x = ts.drop(columns=['posttest', 'school', 'classroom', 'student_id', 'pretest'])\n",
    "y = ts['posttest']\n",
    "\n",
    "# replace school_setting values to Integers\n",
    "x['school_setting'] = x['school_setting'].replace(\"Urban\", 1)\n",
    "x['school_setting'] = x['school_setting'].replace(\"Suburban\", 2)\n",
    "x['school_setting'] = x['school_setting'].replace(\"Rural\", 3)\n",
    "\n",
    "# replace school_type values to Integers\n",
    "x['school_type'] = x['school_type'].replace(\"Public\", 1)\n",
    "x['school_type'] = x['school_type'].replace(\"Non-public\", 0)\n",
    "\n",
    "# replace teaching_method values to Integers\n",
    "x['teaching_method'] = x['teaching_method'].replace(\"Standard\", 1)\n",
    "x['teaching_method'] = x['teaching_method'].replace(\"Experimental\", 0)\n",
    "\n",
    "# replace gender values to Integers\n",
    "x['gender'] = x['gender'].replace(\"Female\", 1)\n",
    "x['gender'] = x['gender'].replace(\"Male\", 0)\n",
    "\n",
    "# replace lunch values to Integers\n",
    "x['lunch'] = x['lunch'].replace(\"Qualifies for reduced/free lunch\", 1)\n",
    "x['lunch'] = x['lunch'].replace(\"Does not qualify\", 0)"
   ]
  },
  {
   "cell_type": "code",
   "execution_count": 9,
   "id": "743a16fc",
   "metadata": {},
   "outputs": [
    {
     "data": {
      "text/plain": [
       "DecisionTreeClassifier()"
      ]
     },
     "execution_count": 9,
     "metadata": {},
     "output_type": "execute_result"
    }
   ],
   "source": [
    "model = DecisionTreeClassifier()\n",
    "model.fit(x,y)"
   ]
  },
  {
   "cell_type": "code",
   "execution_count": 10,
   "id": "6fec731a",
   "metadata": {},
   "outputs": [
    {
     "data": {
      "text/plain": [
       "array([69, 69])"
      ]
     },
     "execution_count": 10,
     "metadata": {},
     "output_type": "execute_result"
    }
   ],
   "source": [
    "# Male vs. Female\n",
    "model.predict([[1,1,1,1,1,20], [1,1,1,1,1,20]])"
   ]
  },
  {
   "cell_type": "code",
   "execution_count": 11,
   "id": "c68201db",
   "metadata": {},
   "outputs": [
    {
     "data": {
      "text/plain": [
       "array([69, 69])"
      ]
     },
     "execution_count": 11,
     "metadata": {},
     "output_type": "execute_result"
    }
   ],
   "source": [
    "#\n",
    "model.predict([[1,1,1,1,1,20], [1,1,1,1,1,20]])"
   ]
  },
  {
   "cell_type": "code",
   "execution_count": null,
   "id": "a9516a02",
   "metadata": {},
   "outputs": [],
   "source": []
  }
 ],
 "metadata": {
  "kernelspec": {
   "display_name": "Python 3 (ipykernel)",
   "language": "python",
   "name": "python3"
  },
  "language_info": {
   "codemirror_mode": {
    "name": "ipython",
    "version": 3
   },
   "file_extension": ".py",
   "mimetype": "text/x-python",
   "name": "python",
   "nbconvert_exporter": "python",
   "pygments_lexer": "ipython3",
   "version": "3.9.5"
  }
 },
 "nbformat": 4,
 "nbformat_minor": 5
}
